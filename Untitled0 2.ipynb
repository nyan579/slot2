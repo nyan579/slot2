{
  "nbformat": 4,
  "nbformat_minor": 0,
  "metadata": {
    "colab": {
      "provenance": []
    },
    "kernelspec": {
      "name": "python3",
      "display_name": "Python 3"
    },
    "language_info": {
      "name": "python"
    }
  },
  "cells": [
    {
      "cell_type": "code",
      "source": [
        "import streamlit as st\n",
        "\n",
        "# スロットの基本データ\n",
        "slot_data = {\n",
        "    \"スマスロ北斗\": {\"天井G\": 1200, \"設定1 AT当選率\": 0.05, \"設定6 AT当選率\": 0.12, \"機械割(設定1)\": 98, \"機械割(設定6)\": 113},\n",
        "    \"バジリスク絆2\": {\"天井G\": 800, \"設定1 AT当選率\": 0.07, \"設定6 AT当選率\": 0.15, \"機械割(設定1)\": 97, \"機械割(設定6)\": 110},\n",
        "    \"リゼロ\": {\"天井G\": 750, \"設定1 AT当選率\": 0.06, \"設定6 AT当選率\": 0.14, \"機械割(設定1)\": 98.5, \"機械割(設定6)\": 115},\n",
        "    \"カバネリ\": {\"天井G\": 1000, \"設定1 AT当選率\": 0.08, \"設定6 AT当選率\": 0.18, \"機械割(設定1)\": 99, \"機械割(設定6)\": 112},\n",
        "    \"ヴヴヴ\": {\"天井G\": 1500, \"設定1 AT当選率\": 0.04, \"設定6 AT当選率\": 0.10, \"機械割(設定1)\": 96, \"機械割(設定6)\": 108}\n",
        "}\n",
        "\n",
        "# Streamlit アプリ作成\n",
        "st.title(\"🎰 スロット勝率計算ツール\")\n",
        "\n",
        "# 機種選択\n",
        "slot_name = st.selectbox(\"機種を選択\", list(slot_data.keys()))\n",
        "\n",
        "# ハマりG数入力\n",
        "current_g = st.number_input(\"現在のハマりG数\", min_value=0, max_value=2000, step=10)\n",
        "\n",
        "# 設定選択\n",
        "setting = st.selectbox(\"設定を選択\", [\"1\", \"6\"])\n",
        "\n",
        "# 設定に応じたAT当選率を取得\n",
        "at_rate = slot_data[slot_name][f\"設定{setting} AT当選率\"]\n",
        "tenjo_g = slot_data[slot_name][\"天井G\"]\n",
        "\n",
        "# AT突入確率計算\n",
        "remaining_spins = tenjo_g - current_g\n",
        "at_probability = 1 - (1 - at_rate) ** remaining_spins\n",
        "\n",
        "# 期待収支計算\n",
        "machine_rate = slot_data[slot_name][f\"機械割(設定{setting})\"]\n",
        "expected_profit = (machine_rate / 100) * 1000 - 1000  # 仮に1000円投資とする\n",
        "\n",
        "# 結果表示\n",
        "st.write(f\"📊 **{slot_name}（設定{setting}）のAT突入確率**: {at_probability:.2%}\")\n",
        "st.write(f\"💰 **期待収支**: {expected_profit:.2f}円\")"
      ],
      "metadata": {
        "id": "4RBaTS_Qh3mH"
      },
      "execution_count": null,
      "outputs": []
    }
  ]
}